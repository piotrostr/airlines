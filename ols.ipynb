{
 "cells": [
  {
   "cell_type": "code",
   "execution_count": 18,
   "id": "55a9ae81",
   "metadata": {},
   "outputs": [],
   "source": [
    "import xgboost as xgb\n",
    "import pandas as pd\n",
    "import statsmodels.api as sm\n",
    "\n",
    "from sklearn.model_selection import train_test_split"
   ]
  },
  {
   "cell_type": "code",
   "execution_count": 19,
   "id": "bb25bf16",
   "metadata": {},
   "outputs": [],
   "source": [
    "df = pd.read_csv('data.csv', low_memory=False)"
   ]
  },
  {
   "cell_type": "code",
   "execution_count": 20,
   "id": "b0a94e7a",
   "metadata": {},
   "outputs": [],
   "source": [
    "train_df, test_df = train_test_split(df, test_size=0.15)"
   ]
  },
  {
   "cell_type": "code",
   "execution_count": 21,
   "id": "99316075",
   "metadata": {},
   "outputs": [],
   "source": [
    "Y = df['price']\n",
    "X = df[['hhi', 'mshare_rc', 'lcc']]\n",
    "X = sm.add_constant(X)"
   ]
  },
  {
   "cell_type": "code",
   "execution_count": 22,
   "id": "418a2313",
   "metadata": {},
   "outputs": [
    {
     "data": {
      "text/html": [
       "<table class=\"simpletable\">\n",
       "<caption>OLS Regression Results</caption>\n",
       "<tr>\n",
       "  <th>Dep. Variable:</th>          <td>price</td>      <th>  R-squared:         </th>  <td>   0.064</td>  \n",
       "</tr>\n",
       "<tr>\n",
       "  <th>Model:</th>                   <td>OLS</td>       <th>  Adj. R-squared:    </th>  <td>   0.064</td>  \n",
       "</tr>\n",
       "<tr>\n",
       "  <th>Method:</th>             <td>Least Squares</td>  <th>  F-statistic:       </th>  <td>   5049.</td>  \n",
       "</tr>\n",
       "<tr>\n",
       "  <th>Date:</th>             <td>Fri, 10 Jun 2022</td> <th>  Prob (F-statistic):</th>   <td>  0.00</td>   \n",
       "</tr>\n",
       "<tr>\n",
       "  <th>Time:</th>                 <td>18:42:32</td>     <th>  Log-Likelihood:    </th> <td>-1.2684e+06</td>\n",
       "</tr>\n",
       "<tr>\n",
       "  <th>No. Observations:</th>      <td>220255</td>      <th>  AIC:               </th>  <td>2.537e+06</td> \n",
       "</tr>\n",
       "<tr>\n",
       "  <th>Df Residuals:</th>          <td>220251</td>      <th>  BIC:               </th>  <td>2.537e+06</td> \n",
       "</tr>\n",
       "<tr>\n",
       "  <th>Df Model:</th>              <td>     3</td>      <th>                     </th>      <td> </td>     \n",
       "</tr>\n",
       "<tr>\n",
       "  <th>Covariance Type:</th>      <td>nonrobust</td>    <th>                     </th>      <td> </td>     \n",
       "</tr>\n",
       "</table>\n",
       "<table class=\"simpletable\">\n",
       "<tr>\n",
       "      <td></td>         <th>coef</th>     <th>std err</th>      <th>t</th>      <th>P>|t|</th>  <th>[0.025</th>    <th>0.975]</th>  \n",
       "</tr>\n",
       "<tr>\n",
       "  <th>const</th>     <td>  136.6083</td> <td>    0.528</td> <td>  258.499</td> <td> 0.000</td> <td>  135.573</td> <td>  137.644</td>\n",
       "</tr>\n",
       "<tr>\n",
       "  <th>hhi</th>       <td>    7.4897</td> <td>    1.699</td> <td>    4.408</td> <td> 0.000</td> <td>    4.160</td> <td>   10.820</td>\n",
       "</tr>\n",
       "<tr>\n",
       "  <th>mshare_rc</th> <td>   39.8792</td> <td>    1.204</td> <td>   33.121</td> <td> 0.000</td> <td>   37.519</td> <td>   42.239</td>\n",
       "</tr>\n",
       "<tr>\n",
       "  <th>lcc</th>       <td>  -37.0628</td> <td>    0.434</td> <td>  -85.363</td> <td> 0.000</td> <td>  -37.914</td> <td>  -36.212</td>\n",
       "</tr>\n",
       "</table>\n",
       "<table class=\"simpletable\">\n",
       "<tr>\n",
       "  <th>Omnibus:</th>       <td>135098.882</td> <th>  Durbin-Watson:     </th>  <td>   0.216</td>  \n",
       "</tr>\n",
       "<tr>\n",
       "  <th>Prob(Omnibus):</th>   <td> 0.000</td>   <th>  Jarque-Bera (JB):  </th> <td>2914852.697</td>\n",
       "</tr>\n",
       "<tr>\n",
       "  <th>Skew:</th>            <td> 2.573</td>   <th>  Prob(JB):          </th>  <td>    0.00</td>  \n",
       "</tr>\n",
       "<tr>\n",
       "  <th>Kurtosis:</th>        <td>20.062</td>   <th>  Cond. No.          </th>  <td>    13.8</td>  \n",
       "</tr>\n",
       "</table><br/><br/>Notes:<br/>[1] Standard Errors assume that the covariance matrix of the errors is correctly specified."
      ],
      "text/plain": [
       "<class 'statsmodels.iolib.summary.Summary'>\n",
       "\"\"\"\n",
       "                            OLS Regression Results                            \n",
       "==============================================================================\n",
       "Dep. Variable:                  price   R-squared:                       0.064\n",
       "Model:                            OLS   Adj. R-squared:                  0.064\n",
       "Method:                 Least Squares   F-statistic:                     5049.\n",
       "Date:                Fri, 10 Jun 2022   Prob (F-statistic):               0.00\n",
       "Time:                        18:42:32   Log-Likelihood:            -1.2684e+06\n",
       "No. Observations:              220255   AIC:                         2.537e+06\n",
       "Df Residuals:                  220251   BIC:                         2.537e+06\n",
       "Df Model:                           3                                         \n",
       "Covariance Type:            nonrobust                                         \n",
       "==============================================================================\n",
       "                 coef    std err          t      P>|t|      [0.025      0.975]\n",
       "------------------------------------------------------------------------------\n",
       "const        136.6083      0.528    258.499      0.000     135.573     137.644\n",
       "hhi            7.4897      1.699      4.408      0.000       4.160      10.820\n",
       "mshare_rc     39.8792      1.204     33.121      0.000      37.519      42.239\n",
       "lcc          -37.0628      0.434    -85.363      0.000     -37.914     -36.212\n",
       "==============================================================================\n",
       "Omnibus:                   135098.882   Durbin-Watson:                   0.216\n",
       "Prob(Omnibus):                  0.000   Jarque-Bera (JB):          2914852.697\n",
       "Skew:                           2.573   Prob(JB):                         0.00\n",
       "Kurtosis:                      20.062   Cond. No.                         13.8\n",
       "==============================================================================\n",
       "\n",
       "Notes:\n",
       "[1] Standard Errors assume that the covariance matrix of the errors is correctly specified.\n",
       "\"\"\""
      ]
     },
     "execution_count": 22,
     "metadata": {},
     "output_type": "execute_result"
    }
   ],
   "source": [
    "ols = sm.OLS(Y, X)\n",
    "res = ols.fit()\n",
    "res.summary()"
   ]
  }
 ],
 "metadata": {
  "kernelspec": {
   "display_name": "Python 3 (ipykernel)",
   "language": "python",
   "name": "python3"
  },
  "language_info": {
   "codemirror_mode": {
    "name": "ipython",
    "version": 3
   },
   "file_extension": ".py",
   "mimetype": "text/x-python",
   "name": "python",
   "nbconvert_exporter": "python",
   "pygments_lexer": "ipython3",
   "version": "3.9.13"
  }
 },
 "nbformat": 4,
 "nbformat_minor": 5
}
