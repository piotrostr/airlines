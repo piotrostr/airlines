{
 "cells": [
  {
   "cell_type": "code",
   "execution_count": 47,
   "id": "55a9ae81",
   "metadata": {},
   "outputs": [],
   "source": [
    "import xgboost as xgb\n",
    "import pandas as pd\n",
    "import statsmodels.api as sm\n",
    "\n",
    "from data import get_data_split, get_XY\n",
    "from sklearn.model_selection import train_test_split\n",
    "from sklearn.metrics import mean_squared_error"
   ]
  },
  {
   "cell_type": "code",
   "execution_count": 42,
   "id": "8b43fce4",
   "metadata": {},
   "outputs": [],
   "source": [
    "df_train, df_test = get_data_split()"
   ]
  },
  {
   "cell_type": "code",
   "execution_count": 43,
   "id": "84182e8b",
   "metadata": {},
   "outputs": [],
   "source": [
    "X_train, Y_train = get_XY(df_train)\n",
    "X_test, Y_test = get_XY(df_test)"
   ]
  },
  {
   "cell_type": "code",
   "execution_count": 44,
   "id": "418a2313",
   "metadata": {},
   "outputs": [
    {
     "data": {
      "text/html": [
       "<table class=\"simpletable\">\n",
       "<caption>OLS Regression Results</caption>\n",
       "<tr>\n",
       "  <th>Dep. Variable:</th>          <td>price</td>      <th>  R-squared (uncentered):</th>       <td>   0.724</td>  \n",
       "</tr>\n",
       "<tr>\n",
       "  <th>Model:</th>                   <td>OLS</td>       <th>  Adj. R-squared (uncentered):</th>  <td>   0.724</td>  \n",
       "</tr>\n",
       "<tr>\n",
       "  <th>Method:</th>             <td>Least Squares</td>  <th>  F-statistic:       </th>           <td>1.827e+05</td> \n",
       "</tr>\n",
       "<tr>\n",
       "  <th>Date:</th>             <td>Sat, 11 Jun 2022</td> <th>  Prob (F-statistic):</th>            <td>  0.00</td>   \n",
       "</tr>\n",
       "<tr>\n",
       "  <th>Time:</th>                 <td>18:52:46</td>     <th>  Log-Likelihood:    </th>          <td>-1.2324e+06</td>\n",
       "</tr>\n",
       "<tr>\n",
       "  <th>No. Observations:</th>      <td>209242</td>      <th>  AIC:               </th>           <td>2.465e+06</td> \n",
       "</tr>\n",
       "<tr>\n",
       "  <th>Df Residuals:</th>          <td>209239</td>      <th>  BIC:               </th>           <td>2.465e+06</td> \n",
       "</tr>\n",
       "<tr>\n",
       "  <th>Df Model:</th>              <td>     3</td>      <th>                     </th>               <td> </td>     \n",
       "</tr>\n",
       "<tr>\n",
       "  <th>Covariance Type:</th>      <td>nonrobust</td>    <th>                     </th>               <td> </td>     \n",
       "</tr>\n",
       "</table>\n",
       "<table class=\"simpletable\">\n",
       "<tr>\n",
       "      <td></td>         <th>coef</th>     <th>std err</th>      <th>t</th>      <th>P>|t|</th>  <th>[0.025</th>    <th>0.975]</th>  \n",
       "</tr>\n",
       "<tr>\n",
       "  <th>hhi</th>       <td>  276.5567</td> <td>    1.570</td> <td>  176.162</td> <td> 0.000</td> <td>  273.480</td> <td>  279.634</td>\n",
       "</tr>\n",
       "<tr>\n",
       "  <th>mshare_rc</th> <td>   78.1744</td> <td>    1.398</td> <td>   55.935</td> <td> 0.000</td> <td>   75.435</td> <td>   80.914</td>\n",
       "</tr>\n",
       "<tr>\n",
       "  <th>lcc</th>       <td>    0.2114</td> <td>    0.479</td> <td>    0.441</td> <td> 0.659</td> <td>   -0.727</td> <td>    1.150</td>\n",
       "</tr>\n",
       "</table>\n",
       "<table class=\"simpletable\">\n",
       "<tr>\n",
       "  <th>Omnibus:</th>       <td>88088.407</td> <th>  Durbin-Watson:     </th>  <td>   1.954</td>  \n",
       "</tr>\n",
       "<tr>\n",
       "  <th>Prob(Omnibus):</th>  <td> 0.000</td>   <th>  Jarque-Bera (JB):  </th> <td>1214736.691</td>\n",
       "</tr>\n",
       "<tr>\n",
       "  <th>Skew:</th>           <td> 1.654</td>   <th>  Prob(JB):          </th>  <td>    0.00</td>  \n",
       "</tr>\n",
       "<tr>\n",
       "  <th>Kurtosis:</th>       <td>14.331</td>   <th>  Cond. No.          </th>  <td>    6.68</td>  \n",
       "</tr>\n",
       "</table><br/><br/>Notes:<br/>[1] R² is computed without centering (uncentered) since the model does not contain a constant.<br/>[2] Standard Errors assume that the covariance matrix of the errors is correctly specified."
      ],
      "text/plain": [
       "<class 'statsmodels.iolib.summary.Summary'>\n",
       "\"\"\"\n",
       "                                 OLS Regression Results                                \n",
       "=======================================================================================\n",
       "Dep. Variable:                  price   R-squared (uncentered):                   0.724\n",
       "Model:                            OLS   Adj. R-squared (uncentered):              0.724\n",
       "Method:                 Least Squares   F-statistic:                          1.827e+05\n",
       "Date:                Sat, 11 Jun 2022   Prob (F-statistic):                        0.00\n",
       "Time:                        18:52:46   Log-Likelihood:                     -1.2324e+06\n",
       "No. Observations:              209242   AIC:                                  2.465e+06\n",
       "Df Residuals:                  209239   BIC:                                  2.465e+06\n",
       "Df Model:                           3                                                  \n",
       "Covariance Type:            nonrobust                                                  \n",
       "==============================================================================\n",
       "                 coef    std err          t      P>|t|      [0.025      0.975]\n",
       "------------------------------------------------------------------------------\n",
       "hhi          276.5567      1.570    176.162      0.000     273.480     279.634\n",
       "mshare_rc     78.1744      1.398     55.935      0.000      75.435      80.914\n",
       "lcc            0.2114      0.479      0.441      0.659      -0.727       1.150\n",
       "==============================================================================\n",
       "Omnibus:                    88088.407   Durbin-Watson:                   1.954\n",
       "Prob(Omnibus):                  0.000   Jarque-Bera (JB):          1214736.691\n",
       "Skew:                           1.654   Prob(JB):                         0.00\n",
       "Kurtosis:                      14.331   Cond. No.                         6.68\n",
       "==============================================================================\n",
       "\n",
       "Notes:\n",
       "[1] R² is computed without centering (uncentered) since the model does not contain a constant.\n",
       "[2] Standard Errors assume that the covariance matrix of the errors is correctly specified.\n",
       "\"\"\""
      ]
     },
     "execution_count": 44,
     "metadata": {},
     "output_type": "execute_result"
    }
   ],
   "source": [
    "model = sm.OLS(Y_train, X_train)\n",
    "res = ols.fit()\n",
    "res.summary()"
   ]
  },
  {
   "cell_type": "code",
   "execution_count": 46,
   "id": "3694d071",
   "metadata": {},
   "outputs": [],
   "source": [
    "Y_preds = res.predict(X_test)"
   ]
  },
  {
   "cell_type": "code",
   "execution_count": 48,
   "id": "f3088fc2",
   "metadata": {},
   "outputs": [
    {
     "data": {
      "text/plain": [
       "7794.7428388099115"
      ]
     },
     "execution_count": 48,
     "metadata": {},
     "output_type": "execute_result"
    }
   ],
   "source": [
    "mean_squared_error(Y_preds, Y_test)"
   ]
  }
 ],
 "metadata": {
  "kernelspec": {
   "display_name": "Python 3 (ipykernel)",
   "language": "python",
   "name": "python3"
  },
  "language_info": {
   "codemirror_mode": {
    "name": "ipython",
    "version": 3
   },
   "file_extension": ".py",
   "mimetype": "text/x-python",
   "name": "python",
   "nbconvert_exporter": "python",
   "pygments_lexer": "ipython3",
   "version": "3.9.13"
  }
 },
 "nbformat": 4,
 "nbformat_minor": 5
}
